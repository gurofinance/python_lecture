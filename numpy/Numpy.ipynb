{
 "cells": [
  {
   "cell_type": "code",
   "execution_count": 1,
   "id": "308453f6",
   "metadata": {
    "ExecuteTime": {
     "end_time": "2021-11-12T05:09:26.432316Z",
     "start_time": "2021-11-12T05:09:26.414363Z"
    }
   },
   "outputs": [],
   "source": [
    "import math"
   ]
  },
  {
   "cell_type": "code",
   "execution_count": 2,
   "id": "4a539317",
   "metadata": {
    "ExecuteTime": {
     "end_time": "2021-11-12T05:09:26.993551Z",
     "start_time": "2021-11-12T05:09:26.965621Z"
    }
   },
   "outputs": [],
   "source": [
    "import numpy"
   ]
  },
  {
   "cell_type": "markdown",
   "id": "6cf93c67",
   "metadata": {},
   "source": [
    "###### array"
   ]
  },
  {
   "cell_type": "code",
   "execution_count": 10,
   "id": "e56da952",
   "metadata": {
    "ExecuteTime": {
     "end_time": "2021-11-12T02:11:37.590164Z",
     "start_time": "2021-11-12T02:11:37.559246Z"
    }
   },
   "outputs": [
    {
     "data": {
      "text/plain": [
       "array([1, 2, 3])"
      ]
     },
     "execution_count": 10,
     "metadata": {},
     "output_type": "execute_result"
    }
   ],
   "source": [
    "import numpy as np\n",
    "array1 = np.array([1,2,3])\n",
    "array2 = np.array([[1,2,3],\n",
    "                   [4,5,6]])\n",
    "array1\n"
   ]
  },
  {
   "cell_type": "code",
   "execution_count": 14,
   "id": "c6b2bb84",
   "metadata": {
    "ExecuteTime": {
     "end_time": "2021-11-12T02:13:18.137201Z",
     "start_time": "2021-11-12T02:13:18.116257Z"
    }
   },
   "outputs": [
    {
     "ename": "TypeError",
     "evalue": "can't multiply sequence by non-int of type 'list'",
     "output_type": "error",
     "traceback": [
      "\u001b[1;31m---------------------------------------------------------------------------\u001b[0m",
      "\u001b[1;31mTypeError\u001b[0m                                 Traceback (most recent call last)",
      "\u001b[1;32m~\\AppData\\Local\\Temp/ipykernel_14292/2157623410.py\u001b[0m in \u001b[0;36m<module>\u001b[1;34m\u001b[0m\n\u001b[1;32m----> 1\u001b[1;33m \u001b[1;33m[\u001b[0m\u001b[1;36m1\u001b[0m\u001b[1;33m,\u001b[0m\u001b[1;36m2\u001b[0m\u001b[1;33m,\u001b[0m\u001b[1;36m3\u001b[0m\u001b[1;33m]\u001b[0m \u001b[1;33m*\u001b[0m \u001b[1;33m[\u001b[0m\u001b[1;36m4\u001b[0m\u001b[1;33m,\u001b[0m\u001b[1;36m5\u001b[0m\u001b[1;33m,\u001b[0m\u001b[1;36m6\u001b[0m\u001b[1;33m]\u001b[0m\u001b[1;33m\u001b[0m\u001b[1;33m\u001b[0m\u001b[0m\n\u001b[0m",
      "\u001b[1;31mTypeError\u001b[0m: can't multiply sequence by non-int of type 'list'"
     ]
    }
   ],
   "source": [
    "[1,2,3] * [4,5,6]"
   ]
  },
  {
   "cell_type": "code",
   "execution_count": 12,
   "id": "2c4372e8",
   "metadata": {
    "ExecuteTime": {
     "end_time": "2021-11-12T02:12:34.865016Z",
     "start_time": "2021-11-12T02:12:34.854043Z"
    }
   },
   "outputs": [],
   "source": [
    "array1 = np.array([1,2,3])\n",
    "array3 = np.array([4,5,6])"
   ]
  },
  {
   "cell_type": "code",
   "execution_count": 15,
   "id": "46b6bc91",
   "metadata": {
    "ExecuteTime": {
     "end_time": "2021-11-12T02:13:35.066344Z",
     "start_time": "2021-11-12T02:13:35.052384Z"
    }
   },
   "outputs": [
    {
     "data": {
      "text/plain": [
       "array([ 4, 10, 18])"
      ]
     },
     "execution_count": 15,
     "metadata": {},
     "output_type": "execute_result"
    }
   ],
   "source": [
    "array1*array3"
   ]
  },
  {
   "cell_type": "code",
   "execution_count": 16,
   "id": "2ad1de52",
   "metadata": {
    "ExecuteTime": {
     "end_time": "2021-11-12T02:15:28.676680Z",
     "start_time": "2021-11-12T02:15:28.656700Z"
    }
   },
   "outputs": [
    {
     "data": {
      "text/plain": [
       "(3,)"
      ]
     },
     "execution_count": 16,
     "metadata": {},
     "output_type": "execute_result"
    }
   ],
   "source": [
    "# 차원 알아보기\n",
    "\n",
    "array1.shape"
   ]
  },
  {
   "cell_type": "code",
   "execution_count": 17,
   "id": "157608e4",
   "metadata": {
    "ExecuteTime": {
     "end_time": "2021-11-12T02:16:19.570843Z",
     "start_time": "2021-11-12T02:16:19.550898Z"
    }
   },
   "outputs": [
    {
     "data": {
      "text/plain": [
       "(2, 3)"
      ]
     },
     "execution_count": 17,
     "metadata": {},
     "output_type": "execute_result"
    }
   ],
   "source": [
    "array2.shape"
   ]
  },
  {
   "cell_type": "code",
   "execution_count": 65,
   "id": "e5c1111f",
   "metadata": {
    "ExecuteTime": {
     "end_time": "2021-11-12T04:05:39.643835Z",
     "start_time": "2021-11-12T04:05:39.630869Z"
    }
   },
   "outputs": [],
   "source": [
    "ndarray = np.array([[[[1,2,3.5],\n",
    " [4,5,6]],\n",
    "[[7,8,9],\n",
    " [10,11,12]]]])"
   ]
  },
  {
   "cell_type": "code",
   "execution_count": 67,
   "id": "f8f45e61",
   "metadata": {
    "ExecuteTime": {
     "end_time": "2021-11-12T04:06:40.461862Z",
     "start_time": "2021-11-12T04:06:40.446900Z"
    }
   },
   "outputs": [
    {
     "data": {
      "text/plain": [
       "4"
      ]
     },
     "execution_count": 67,
     "metadata": {},
     "output_type": "execute_result"
    }
   ],
   "source": [
    "ndarray.ndim"
   ]
  },
  {
   "cell_type": "code",
   "execution_count": 55,
   "id": "7b4cf752",
   "metadata": {
    "ExecuteTime": {
     "end_time": "2021-11-12T03:59:09.426459Z",
     "start_time": "2021-11-12T03:59:09.415486Z"
    }
   },
   "outputs": [
    {
     "data": {
      "text/plain": [
       "dtype('float64')"
      ]
     },
     "execution_count": 55,
     "metadata": {},
     "output_type": "execute_result"
    }
   ],
   "source": [
    "ndarray.dtype"
   ]
  },
  {
   "cell_type": "code",
   "execution_count": 34,
   "id": "29272323",
   "metadata": {
    "ExecuteTime": {
     "end_time": "2021-11-12T02:25:17.107098Z",
     "start_time": "2021-11-12T02:25:17.090145Z"
    }
   },
   "outputs": [
    {
     "data": {
      "text/plain": [
       "array([[[ 1. ,  2. ,  3.5],\n",
       "        [ 4. ,  5. ,  6. ]],\n",
       "\n",
       "       [[ 7. ,  8. ,  9. ],\n",
       "        [10. , 11. , 12. ]]])"
      ]
     },
     "execution_count": 34,
     "metadata": {},
     "output_type": "execute_result"
    }
   ],
   "source": [
    "ndarray.astype('float64')"
   ]
  },
  {
   "cell_type": "markdown",
   "id": "251570e0",
   "metadata": {},
   "source": [
    "numpy.zeros(shape, dtype=float, order='C', *, like=None)"
   ]
  },
  {
   "cell_type": "code",
   "execution_count": 50,
   "id": "e50e754f",
   "metadata": {
    "ExecuteTime": {
     "end_time": "2021-11-12T02:39:41.688325Z",
     "start_time": "2021-11-12T02:39:41.673366Z"
    }
   },
   "outputs": [
    {
     "data": {
      "text/plain": [
       "array([10., 10., 10., 10., 10., 10., 10., 10., 10., 10.])"
      ]
     },
     "execution_count": 50,
     "metadata": {},
     "output_type": "execute_result"
    }
   ],
   "source": [
    "# zeros() 메소드\n",
    "\n",
    "np.zeros(10)+10"
   ]
  },
  {
   "cell_type": "code",
   "execution_count": 51,
   "id": "1157cb07",
   "metadata": {
    "ExecuteTime": {
     "end_time": "2021-11-12T02:39:42.558466Z",
     "start_time": "2021-11-12T02:39:42.550494Z"
    }
   },
   "outputs": [],
   "source": [
    "ndarray = np.ones((2 ,5),dtype=int)*2"
   ]
  },
  {
   "cell_type": "code",
   "execution_count": 52,
   "id": "57312174",
   "metadata": {
    "ExecuteTime": {
     "end_time": "2021-11-12T02:39:43.132611Z",
     "start_time": "2021-11-12T02:39:43.120643Z"
    }
   },
   "outputs": [
    {
     "data": {
      "text/plain": [
       "(2, 5)"
      ]
     },
     "execution_count": 52,
     "metadata": {},
     "output_type": "execute_result"
    }
   ],
   "source": [
    "ndarray.shape"
   ]
  },
  {
   "cell_type": "markdown",
   "id": "2735e99c",
   "metadata": {},
   "source": [
    "###### mean()\n",
    "numpy.mean(a, axis=None, dtype=None, out=None, keepdims=<no value>, *, where=<no value>)[[source\\]](https://github.com/numpy/numpy/blob/v1.21.0/numpy/core/fromnumeric.py#L3322-L3441)"
   ]
  },
  {
   "cell_type": "code",
   "execution_count": 68,
   "id": "f208eb19",
   "metadata": {
    "ExecuteTime": {
     "end_time": "2021-11-12T04:16:17.303344Z",
     "start_time": "2021-11-12T04:16:17.288384Z"
    }
   },
   "outputs": [
    {
     "data": {
      "text/plain": [
       "2.5"
      ]
     },
     "execution_count": 68,
     "metadata": {},
     "output_type": "execute_result"
    }
   ],
   "source": [
    "a = np.array([[1, 2], [3, 4]])\n",
    "np.mean(a)"
   ]
  },
  {
   "cell_type": "code",
   "execution_count": 69,
   "id": "7cdb9c42",
   "metadata": {
    "ExecuteTime": {
     "end_time": "2021-11-12T04:16:30.390296Z",
     "start_time": "2021-11-12T04:16:30.366826Z"
    }
   },
   "outputs": [
    {
     "data": {
      "text/plain": [
       "array([2., 3.])"
      ]
     },
     "execution_count": 69,
     "metadata": {},
     "output_type": "execute_result"
    }
   ],
   "source": [
    "np.mean(a , axis=0)"
   ]
  },
  {
   "cell_type": "code",
   "execution_count": 70,
   "id": "09aac5d2",
   "metadata": {
    "ExecuteTime": {
     "end_time": "2021-11-12T04:16:35.959477Z",
     "start_time": "2021-11-12T04:16:35.929557Z"
    }
   },
   "outputs": [
    {
     "data": {
      "text/plain": [
       "array([1.5, 3.5])"
      ]
     },
     "execution_count": 70,
     "metadata": {},
     "output_type": "execute_result"
    }
   ],
   "source": [
    "np.mean(a , axis=1)"
   ]
  },
  {
   "cell_type": "markdown",
   "id": "81bdecf5",
   "metadata": {},
   "source": [
    "##### reshape\n",
    "numpy.reshape(a, newshape, order='C')"
   ]
  },
  {
   "cell_type": "code",
   "execution_count": 74,
   "id": "383a7dc5",
   "metadata": {
    "ExecuteTime": {
     "end_time": "2021-11-12T04:24:48.132001Z",
     "start_time": "2021-11-12T04:24:48.120028Z"
    }
   },
   "outputs": [],
   "source": [
    "a = np.arange(6).reshape((2, 3))"
   ]
  },
  {
   "cell_type": "code",
   "execution_count": 75,
   "id": "986440a8",
   "metadata": {
    "ExecuteTime": {
     "end_time": "2021-11-12T04:24:48.747385Z",
     "start_time": "2021-11-12T04:24:48.713936Z"
    }
   },
   "outputs": [
    {
     "data": {
      "text/plain": [
       "array([[0, 1, 2],\n",
       "       [3, 4, 5]])"
      ]
     },
     "execution_count": 75,
     "metadata": {},
     "output_type": "execute_result"
    }
   ],
   "source": [
    "a"
   ]
  },
  {
   "cell_type": "markdown",
   "id": "556ab3dc",
   "metadata": {},
   "source": [
    "###### sqrt\n",
    "numpy.sqrt(x, /, out=None, *, where=True, casting='same_kind', order='K', dtype=None, subok=True[, signature, extobj]) = <ufunc 'sqrt'>"
   ]
  },
  {
   "cell_type": "code",
   "execution_count": 78,
   "id": "1b406e6d",
   "metadata": {
    "ExecuteTime": {
     "end_time": "2021-11-12T04:37:16.734595Z",
     "start_time": "2021-11-12T04:37:16.707671Z"
    }
   },
   "outputs": [
    {
     "ename": "TypeError",
     "evalue": "must be real number, not list",
     "output_type": "error",
     "traceback": [
      "\u001b[1;31m---------------------------------------------------------------------------\u001b[0m",
      "\u001b[1;31mTypeError\u001b[0m                                 Traceback (most recent call last)",
      "\u001b[1;32m~\\AppData\\Local\\Temp/ipykernel_14292/3900776302.py\u001b[0m in \u001b[0;36m<module>\u001b[1;34m\u001b[0m\n\u001b[0;32m      1\u001b[0m \u001b[1;32mimport\u001b[0m \u001b[0mmath\u001b[0m\u001b[1;33m\u001b[0m\u001b[1;33m\u001b[0m\u001b[0m\n\u001b[0;32m      2\u001b[0m \u001b[1;33m\u001b[0m\u001b[0m\n\u001b[1;32m----> 3\u001b[1;33m \u001b[0mmath\u001b[0m\u001b[1;33m.\u001b[0m\u001b[0msqrt\u001b[0m\u001b[1;33m(\u001b[0m\u001b[1;33m[\u001b[0m\u001b[1;36m1\u001b[0m\u001b[1;33m,\u001b[0m\u001b[1;36m2\u001b[0m\u001b[1;33m,\u001b[0m\u001b[1;36m3\u001b[0m\u001b[1;33m]\u001b[0m\u001b[1;33m)\u001b[0m\u001b[1;33m\u001b[0m\u001b[1;33m\u001b[0m\u001b[0m\n\u001b[0m",
      "\u001b[1;31mTypeError\u001b[0m: must be real number, not list"
     ]
    }
   ],
   "source": [
    "import math\n",
    "\n",
    "math.sqrt([1,2,3])"
   ]
  },
  {
   "cell_type": "code",
   "execution_count": 79,
   "id": "60aadf35",
   "metadata": {
    "ExecuteTime": {
     "end_time": "2021-11-12T04:37:18.218693Z",
     "start_time": "2021-11-12T04:37:18.206724Z"
    }
   },
   "outputs": [
    {
     "data": {
      "text/plain": [
       "array([1.        , 1.41421356, 1.73205081])"
      ]
     },
     "execution_count": 79,
     "metadata": {},
     "output_type": "execute_result"
    }
   ],
   "source": [
    "np.sqrt(np.array([1,2,3]))"
   ]
  },
  {
   "cell_type": "markdown",
   "id": "52899595",
   "metadata": {},
   "source": [
    "###### transpose()\n",
    "numpy.transpose(a, axes=None)"
   ]
  },
  {
   "cell_type": "code",
   "execution_count": 83,
   "id": "31a02986",
   "metadata": {
    "ExecuteTime": {
     "end_time": "2021-11-12T04:45:18.598542Z",
     "start_time": "2021-11-12T04:45:18.585578Z"
    }
   },
   "outputs": [
    {
     "data": {
      "text/plain": [
       "array([[ 0,  3,  6,  9],\n",
       "       [ 1,  4,  7, 10],\n",
       "       [ 2,  5,  8, 11]])"
      ]
     },
     "execution_count": 83,
     "metadata": {},
     "output_type": "execute_result"
    }
   ],
   "source": [
    "x = np.arange(12).reshape((4,3))\n",
    "np.transpose(x)"
   ]
  },
  {
   "cell_type": "code",
   "execution_count": 3,
   "id": "8cca9ce8",
   "metadata": {
    "ExecuteTime": {
     "end_time": "2021-11-12T05:09:35.976426Z",
     "start_time": "2021-11-12T05:09:35.924566Z"
    }
   },
   "outputs": [
    {
     "name": "stdout",
     "output_type": "stream",
     "text": [
      "b: [20 40 60]\n",
      "b: [20 10 60]\n",
      "a: [10 20 30 40 50 60 70]\n"
     ]
    },
    {
     "data": {
      "text/plain": [
       "numpy.ndarray"
      ]
     },
     "execution_count": 3,
     "metadata": {},
     "output_type": "execute_result"
    }
   ],
   "source": [
    "a = np.array([10, 20, 30, 40, 50, 60, 70])\n",
    "b = np.array(a[1:6:2])\n",
    "print('b:', b)\n",
    "b[1] = 10\n",
    "print('b:', b)\n",
    "print('a:', a)\n",
    "type(b)"
   ]
  },
  {
   "cell_type": "markdown",
   "id": "20473c04",
   "metadata": {},
   "source": [
    "##### np.random"
   ]
  },
  {
   "cell_type": "code",
   "execution_count": null,
   "id": "f1e1ec02",
   "metadata": {},
   "outputs": [],
   "source": []
  },
  {
   "cell_type": "code",
   "execution_count": null,
   "id": "01f886d4",
   "metadata": {},
   "outputs": [],
   "source": []
  },
  {
   "cell_type": "markdown",
   "id": "cfaadbfc",
   "metadata": {},
   "source": [
    "###### linspace\n",
    "* numpy.linspace(start, stop, num=50, endpoint=True, retstep=False, dtype=None, axis=0)[source]"
   ]
  },
  {
   "cell_type": "code",
   "execution_count": 15,
   "id": "71d3097e",
   "metadata": {
    "ExecuteTime": {
     "end_time": "2021-11-12T05:32:45.654711Z",
     "start_time": "2021-11-12T05:32:45.620775Z"
    }
   },
   "outputs": [],
   "source": [
    "arr_1 = np.linspace(0, 12, num=4)\n",
    "arr_2 = np.linspace(0, 12, 4, retstep=True)\n",
    "arr_3 = np.linspace(0, 12, 4, False , True)"
   ]
  },
  {
   "cell_type": "code",
   "execution_count": 16,
   "id": "0c5a49bc",
   "metadata": {
    "ExecuteTime": {
     "end_time": "2021-11-12T05:32:46.073753Z",
     "start_time": "2021-11-12T05:32:46.031338Z"
    }
   },
   "outputs": [
    {
     "name": "stdout",
     "output_type": "stream",
     "text": [
      "[ 0.  4.  8. 12.] (array([ 0.,  4.,  8., 12.]), 4.0) (array([0., 3., 6., 9.]), 3.0)\n"
     ]
    }
   ],
   "source": [
    "print(arr_1 ,arr_2 , arr_3 )"
   ]
  },
  {
   "cell_type": "markdown",
   "id": "cbbe9d5c",
   "metadata": {},
   "source": [
    "###### logspace\n",
    "numpy.logspace(start, stop, num=50, endpoint=True, base=10.0, dtype=None, axis=0)"
   ]
  },
  {
   "cell_type": "code",
   "execution_count": null,
   "id": "c137c370",
   "metadata": {},
   "outputs": [],
   "source": []
  },
  {
   "cell_type": "markdown",
   "id": "f1b954fe",
   "metadata": {},
   "source": [
    "###### random.rand()\n",
    "random.rand(d0, d1, ..., dn)"
   ]
  },
  {
   "cell_type": "code",
   "execution_count": 25,
   "id": "7080856a",
   "metadata": {
    "ExecuteTime": {
     "end_time": "2021-11-12T05:45:15.847050Z",
     "start_time": "2021-11-12T05:45:15.820121Z"
    }
   },
   "outputs": [
    {
     "data": {
      "text/plain": [
       "array([0.77132064, 0.02075195, 0.63364823, 0.74880388, 0.49850701])"
      ]
     },
     "execution_count": 25,
     "metadata": {},
     "output_type": "execute_result"
    }
   ],
   "source": [
    "np.random.seed(10)\n",
    "np.random.rand(5)\n",
    "# np.random.rand(2,3)"
   ]
  },
  {
   "cell_type": "code",
   "execution_count": 29,
   "id": "7d7eab52",
   "metadata": {
    "ExecuteTime": {
     "end_time": "2021-11-12T05:46:29.855383Z",
     "start_time": "2021-11-12T05:46:29.834440Z"
    }
   },
   "outputs": [
    {
     "data": {
      "text/plain": [
       "array([[0.67413362, 0.44183317, 0.43401399, 0.61776698, 0.51313824],\n",
       "       [0.65039718, 0.60103895, 0.8052232 , 0.52164715, 0.90864888],\n",
       "       [0.31923609, 0.09045935, 0.30070006, 0.11398436, 0.82868133],\n",
       "       [0.04689632, 0.62628715, 0.54758616, 0.819287  , 0.19894754],\n",
       "       [0.8568503 , 0.35165264, 0.75464769, 0.29596171, 0.88393648],\n",
       "       [0.32551164, 0.1650159 , 0.39252924, 0.09346037, 0.82110566],\n",
       "       [0.15115202, 0.38411445, 0.94426071, 0.98762547, 0.45630455],\n",
       "       [0.82612284, 0.25137413, 0.59737165, 0.90283176, 0.53455795],\n",
       "       [0.59020136, 0.03928177, 0.35718176, 0.07961309, 0.30545992],\n",
       "       [0.33071931, 0.7738303 , 0.03995921, 0.42949218, 0.31492687]])"
      ]
     },
     "execution_count": 29,
     "metadata": {},
     "output_type": "execute_result"
    }
   ],
   "source": [
    "np.random.rand(10,5)"
   ]
  },
  {
   "cell_type": "markdown",
   "id": "c070de21",
   "metadata": {},
   "source": [
    "##### numpy.random.randn\n",
    "* random.randn(d0, d1, ..., dn)\n",
    "* Return a sample (or samples) from the “standard normal” distribution."
   ]
  },
  {
   "cell_type": "code",
   "execution_count": null,
   "id": "27c2e6ca",
   "metadata": {},
   "outputs": [],
   "source": []
  }
 ],
 "metadata": {
  "kernelspec": {
   "display_name": "Python 3 (ipykernel)",
   "language": "python",
   "name": "python3"
  },
  "language_info": {
   "codemirror_mode": {
    "name": "ipython",
    "version": 3
   },
   "file_extension": ".py",
   "mimetype": "text/x-python",
   "name": "python",
   "nbconvert_exporter": "python",
   "pygments_lexer": "ipython3",
   "version": "3.8.9"
  },
  "varInspector": {
   "cols": {
    "lenName": 16,
    "lenType": 16,
    "lenVar": 40
   },
   "kernels_config": {
    "python": {
     "delete_cmd_postfix": "",
     "delete_cmd_prefix": "del ",
     "library": "var_list.py",
     "varRefreshCmd": "print(var_dic_list())"
    },
    "r": {
     "delete_cmd_postfix": ") ",
     "delete_cmd_prefix": "rm(",
     "library": "var_list.r",
     "varRefreshCmd": "cat(var_dic_list()) "
    }
   },
   "types_to_exclude": [
    "module",
    "function",
    "builtin_function_or_method",
    "instance",
    "_Feature"
   ],
   "window_display": false
  }
 },
 "nbformat": 4,
 "nbformat_minor": 5
}
