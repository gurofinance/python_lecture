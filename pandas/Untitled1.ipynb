{
 "cells": [
  {
   "cell_type": "code",
   "execution_count": 1,
   "id": "610ddf09",
   "metadata": {
    "ExecuteTime": {
     "end_time": "2021-11-12T08:14:27.423657Z",
     "start_time": "2021-11-12T08:14:24.442829Z"
    }
   },
   "outputs": [
    {
     "name": "stdout",
     "output_type": "stream",
     "text": [
      "Requirement already satisfied: pandas in c:\\users\\lg\\appdata\\local\\programs\\python\\python38\\lib\\site-packages (1.3.4)\n",
      "Requirement already satisfied: pytz>=2017.3 in c:\\users\\lg\\appdata\\local\\programs\\python\\python38\\lib\\site-packages (from pandas) (2021.3)\n",
      "Requirement already satisfied: numpy>=1.17.3; platform_machine != \"aarch64\" and platform_machine != \"arm64\" and python_version < \"3.10\" in c:\\users\\lg\\appdata\\local\\programs\\python\\python38\\lib\\site-packages (from pandas) (1.21.4)\n",
      "Requirement already satisfied: python-dateutil>=2.7.3 in c:\\users\\lg\\appdata\\local\\programs\\python\\python38\\lib\\site-packages (from pandas) (2.8.2)\n",
      "Requirement already satisfied: six>=1.5 in c:\\users\\lg\\appdata\\local\\programs\\python\\python38\\lib\\site-packages (from python-dateutil>=2.7.3->pandas) (1.16.0)\n",
      "Note: you may need to restart the kernel to use updated packages.\n"
     ]
    },
    {
     "name": "stderr",
     "output_type": "stream",
     "text": [
      "WARNING: You are using pip version 20.2.3; however, version 21.3.1 is available.\n",
      "You should consider upgrading via the 'c:\\users\\lg\\appdata\\local\\programs\\python\\python38\\python.exe -m pip install --upgrade pip' command.\n"
     ]
    }
   ],
   "source": [
    "pip install pandas"
   ]
  },
  {
   "cell_type": "code",
   "execution_count": 2,
   "id": "f5ce406f",
   "metadata": {
    "ExecuteTime": {
     "end_time": "2021-11-12T08:14:52.488862Z",
     "start_time": "2021-11-12T08:14:51.293343Z"
    }
   },
   "outputs": [],
   "source": [
    "import pandas as pd"
   ]
  },
  {
   "cell_type": "code",
   "execution_count": 11,
   "id": "e19b36f3",
   "metadata": {
    "ExecuteTime": {
     "end_time": "2021-11-12T08:22:36.205197Z",
     "start_time": "2021-11-12T08:22:36.191236Z"
    }
   },
   "outputs": [],
   "source": [
    "srs = pd.Series([10,20,30,50], index=[\"서울\",\"대전\",\"대구\",\"부산\"])"
   ]
  },
  {
   "cell_type": "code",
   "execution_count": 12,
   "id": "72b9c398",
   "metadata": {
    "ExecuteTime": {
     "end_time": "2021-11-12T08:22:36.714373Z",
     "start_time": "2021-11-12T08:22:36.688450Z"
    }
   },
   "outputs": [
    {
     "data": {
      "text/plain": [
       "Index(['서울', '대전', '대구', '부산'], dtype='object')"
      ]
     },
     "execution_count": 12,
     "metadata": {},
     "output_type": "execute_result"
    }
   ],
   "source": [
    "srs.index"
   ]
  },
  {
   "cell_type": "code",
   "execution_count": 13,
   "id": "724ea854",
   "metadata": {
    "ExecuteTime": {
     "end_time": "2021-11-12T08:22:39.180116Z",
     "start_time": "2021-11-12T08:22:39.166154Z"
    }
   },
   "outputs": [
    {
     "data": {
      "text/plain": [
       "array([10, 20, 30, 50], dtype=int64)"
      ]
     },
     "execution_count": 13,
     "metadata": {},
     "output_type": "execute_result"
    }
   ],
   "source": [
    "srs.values"
   ]
  },
  {
   "cell_type": "code",
   "execution_count": 14,
   "id": "79f9270e",
   "metadata": {
    "ExecuteTime": {
     "end_time": "2021-11-12T08:22:59.787279Z",
     "start_time": "2021-11-12T08:22:59.765304Z"
    }
   },
   "outputs": [
    {
     "data": {
      "text/plain": [
       "['대구', '대전', '부산', '서울']"
      ]
     },
     "execution_count": 14,
     "metadata": {},
     "output_type": "execute_result"
    }
   ],
   "source": [
    "sorted(srs.index)"
   ]
  },
  {
   "cell_type": "code",
   "execution_count": 15,
   "id": "615548b5",
   "metadata": {
    "ExecuteTime": {
     "end_time": "2021-11-12T08:23:14.093645Z",
     "start_time": "2021-11-12T08:23:14.076687Z"
    }
   },
   "outputs": [
    {
     "data": {
      "text/plain": [
       "[10, 20, 30, 50]"
      ]
     },
     "execution_count": 15,
     "metadata": {},
     "output_type": "execute_result"
    }
   ],
   "source": [
    "sorted(srs.values)"
   ]
  },
  {
   "cell_type": "code",
   "execution_count": 17,
   "id": "d2e396e1",
   "metadata": {
    "ExecuteTime": {
     "end_time": "2021-11-12T08:24:41.768601Z",
     "start_time": "2021-11-12T08:24:41.760620Z"
    }
   },
   "outputs": [],
   "source": [
    "srs_1 = srs.reindex(sorted(srs.index))"
   ]
  },
  {
   "cell_type": "code",
   "execution_count": 29,
   "id": "fde6a7f4",
   "metadata": {
    "ExecuteTime": {
     "end_time": "2021-11-12T08:30:59.853168Z",
     "start_time": "2021-11-12T08:30:59.847184Z"
    }
   },
   "outputs": [],
   "source": [
    "srs_2 = srs_1.reindex(['대구', '대전', '부산', '서울'])"
   ]
  },
  {
   "cell_type": "code",
   "execution_count": 28,
   "id": "9ed1a540",
   "metadata": {
    "ExecuteTime": {
     "end_time": "2021-11-12T08:30:46.679245Z",
     "start_time": "2021-11-12T08:30:46.656304Z"
    }
   },
   "outputs": [
    {
     "data": {
      "text/plain": [
       "대구    30.0\n",
       "대전    20.0\n",
       "부산    50.0\n",
       "서울    10.0\n",
       "마산     NaN\n",
       "dtype: float64"
      ]
     },
     "execution_count": 28,
     "metadata": {},
     "output_type": "execute_result"
    }
   ],
   "source": [
    "srs_2"
   ]
  },
  {
   "cell_type": "code",
   "execution_count": 27,
   "id": "afc6ce68",
   "metadata": {
    "ExecuteTime": {
     "end_time": "2021-11-12T08:28:38.698556Z",
     "start_time": "2021-11-12T08:28:38.682599Z"
    }
   },
   "outputs": [
    {
     "data": {
      "text/plain": [
       "대구    30.0\n",
       "대전    20.0\n",
       "부산    50.0\n",
       "서울    10.0\n",
       "마산    27.5\n",
       "dtype: float64"
      ]
     },
     "execution_count": 27,
     "metadata": {},
     "output_type": "execute_result"
    }
   ],
   "source": [
    "srs_2.fillna(srs_2.mean())"
   ]
  },
  {
   "cell_type": "code",
   "execution_count": 32,
   "id": "49aa04ed",
   "metadata": {
    "ExecuteTime": {
     "end_time": "2021-11-12T08:39:34.348207Z",
     "start_time": "2021-11-12T08:39:34.337238Z"
    }
   },
   "outputs": [],
   "source": [
    "data = [(\"a\", 1), (\"b\",2)]"
   ]
  },
  {
   "cell_type": "code",
   "execution_count": 33,
   "id": "ef656a5b",
   "metadata": {
    "ExecuteTime": {
     "end_time": "2021-11-12T08:39:43.268037Z",
     "start_time": "2021-11-12T08:39:43.255091Z"
    }
   },
   "outputs": [
    {
     "data": {
      "text/plain": [
       "{'a': 1, 'b': 2}"
      ]
     },
     "execution_count": 33,
     "metadata": {},
     "output_type": "execute_result"
    }
   ],
   "source": [
    "dict(data)"
   ]
  },
  {
   "cell_type": "code",
   "execution_count": 34,
   "id": "3278801b",
   "metadata": {
    "ExecuteTime": {
     "end_time": "2021-11-12T08:39:53.645223Z",
     "start_time": "2021-11-12T08:39:53.625270Z"
    }
   },
   "outputs": [
    {
     "data": {
      "text/plain": [
       "a    1\n",
       "b    2\n",
       "dtype: int64"
      ]
     },
     "execution_count": 34,
     "metadata": {},
     "output_type": "execute_result"
    }
   ],
   "source": [
    "pd.Series(dict(data))"
   ]
  },
  {
   "cell_type": "code",
   "execution_count": null,
   "id": "26604580",
   "metadata": {},
   "outputs": [],
   "source": []
  }
 ],
 "metadata": {
  "kernelspec": {
   "display_name": "Python 3 (ipykernel)",
   "language": "python",
   "name": "python3"
  },
  "language_info": {
   "codemirror_mode": {
    "name": "ipython",
    "version": 3
   },
   "file_extension": ".py",
   "mimetype": "text/x-python",
   "name": "python",
   "nbconvert_exporter": "python",
   "pygments_lexer": "ipython3",
   "version": "3.8.9"
  },
  "toc": {
   "base_numbering": 1,
   "nav_menu": {},
   "number_sections": true,
   "sideBar": true,
   "skip_h1_title": false,
   "title_cell": "Table of Contents",
   "title_sidebar": "Contents",
   "toc_cell": false,
   "toc_position": {},
   "toc_section_display": true,
   "toc_window_display": true
  },
  "varInspector": {
   "cols": {
    "lenName": 16,
    "lenType": 16,
    "lenVar": 40
   },
   "kernels_config": {
    "python": {
     "delete_cmd_postfix": "",
     "delete_cmd_prefix": "del ",
     "library": "var_list.py",
     "varRefreshCmd": "print(var_dic_list())"
    },
    "r": {
     "delete_cmd_postfix": ") ",
     "delete_cmd_prefix": "rm(",
     "library": "var_list.r",
     "varRefreshCmd": "cat(var_dic_list()) "
    }
   },
   "types_to_exclude": [
    "module",
    "function",
    "builtin_function_or_method",
    "instance",
    "_Feature"
   ],
   "window_display": false
  }
 },
 "nbformat": 4,
 "nbformat_minor": 5
}
